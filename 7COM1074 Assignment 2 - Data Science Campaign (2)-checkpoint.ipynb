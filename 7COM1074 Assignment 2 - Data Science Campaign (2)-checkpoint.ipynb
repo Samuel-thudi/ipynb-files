{
 "cells": [
  {
   "cell_type": "markdown",
   "metadata": {},
   "source": [
    "# 7COM1074 Applied Data Science and Analytics\n",
    "# Coursework 2 - Data Science Campaign.\n",
    "\n",
    "Provided is this jupyter notebook. Contained are all instructions necessary to complete the assignment.\n",
    "\n",
    "This assignment is weighted with 30% of the total marks you can score in this module.\n",
    "\n",
    "## What to submit\n",
    "You must submit two files:\n",
    "1. this notebook, completed, in .ipynb format.\n",
    "2. This notebook, completed, in .html format. \n",
    "\n",
    "Use File -> download as... -> HTML in the jupyter notebook menu bar to save this notebook in html format.\n",
    "\n",
    "## Marking criteria \n",
    "A total of 100 marks can be obtained. 10 marks are obtained when submitting a notebook that runs without errors on an anaconda installation such as installed on the UH practical machines. The remaining 90 marks are distributed as indicated in the tasks.\n",
    "\n",
    "**Only answers with correct code will be marked. Any parts that do not run because of coding errors will receive zero marks. This includes cells that do not run because previous cells contained errors. Please test your notebook before submitting.** You can use \"Kernel\" -> \"Restart & Run All\" in the jupyter notebook menu bar. "
   ]
  },
  {
   "cell_type": "markdown",
   "metadata": {},
   "source": [
    "## Problem statement\n",
    "You will work on a a dataset about diabetes hospital re-admittance. The dataset is available via canvas as part of this assignment. [Diabetes](https://www.niddk.nih.gov/health-information/diabetes) is the condition when the body loses its ability to process glucose. It is often associated with overconsumption of food, and obesity. But there are also genetic factors that can cause the disease.  \n",
    "\n",
    "The dataset is a CSV file. \n",
    "\n",
    "It contains seven features. It also contains one dependent variable, 'Outcome'."
   ]
  },
  {
   "cell_type": "code",
   "execution_count": null,
   "metadata": {},
   "outputs": [],
   "source": []
  },
  {
   "cell_type": "markdown",
   "metadata": {},
   "source": [
    "### Task 1 - Load the data (5 marks)\n",
    "Use pandas to load the provided csv file. \n",
    "\n",
    "Use the `DataFrame.head` command to show the first 10 rows of the data set. "
   ]
  },
  {
   "cell_type": "code",
   "execution_count": 1,
   "metadata": {
    "scrolled": true
   },
   "outputs": [
    {
     "name": "stdout",
     "output_type": "stream",
     "text": [
      "     no. pregnancies  blood glucose level  blood pressure  thickness of skin  \\\n",
      "0                  6                  148              72                 35   \n",
      "1                  1                   85              66                 29   \n",
      "2                  8                  183              64                  0   \n",
      "3                  1                   89              66                 23   \n",
      "4                  0                  137              40                 35   \n",
      "..               ...                  ...             ...                ...   \n",
      "763               10                  101              76                 48   \n",
      "764                2                  122              70                 27   \n",
      "765                5                  121              72                 23   \n",
      "766                1                  126              60                  0   \n",
      "767                1                   93              70                 31   \n",
      "\n",
      "     insulin level  body mass index  Age  Outcome  \n",
      "0                0             33.6   50        1  \n",
      "1                0             26.6   31        0  \n",
      "2                0             23.3   32        1  \n",
      "3               94             28.1   21        0  \n",
      "4              168             43.1   33        1  \n",
      "..             ...              ...  ...      ...  \n",
      "763            180             32.9   63        0  \n",
      "764              0             36.8   27        0  \n",
      "765            112             26.2   30        0  \n",
      "766              0             30.1   47        1  \n",
      "767              0             30.4   23        0  \n",
      "\n",
      "[768 rows x 8 columns]\n"
     ]
    },
    {
     "data": {
      "text/html": [
       "<div>\n",
       "<style scoped>\n",
       "    .dataframe tbody tr th:only-of-type {\n",
       "        vertical-align: middle;\n",
       "    }\n",
       "\n",
       "    .dataframe tbody tr th {\n",
       "        vertical-align: top;\n",
       "    }\n",
       "\n",
       "    .dataframe thead th {\n",
       "        text-align: right;\n",
       "    }\n",
       "</style>\n",
       "<table border=\"1\" class=\"dataframe\">\n",
       "  <thead>\n",
       "    <tr style=\"text-align: right;\">\n",
       "      <th></th>\n",
       "      <th>no. pregnancies</th>\n",
       "      <th>blood glucose level</th>\n",
       "      <th>blood pressure</th>\n",
       "      <th>thickness of skin</th>\n",
       "      <th>insulin level</th>\n",
       "      <th>body mass index</th>\n",
       "      <th>Age</th>\n",
       "      <th>Outcome</th>\n",
       "    </tr>\n",
       "  </thead>\n",
       "  <tbody>\n",
       "    <tr>\n",
       "      <th>0</th>\n",
       "      <td>6</td>\n",
       "      <td>148</td>\n",
       "      <td>72</td>\n",
       "      <td>35</td>\n",
       "      <td>0</td>\n",
       "      <td>33.6</td>\n",
       "      <td>50</td>\n",
       "      <td>1</td>\n",
       "    </tr>\n",
       "    <tr>\n",
       "      <th>1</th>\n",
       "      <td>1</td>\n",
       "      <td>85</td>\n",
       "      <td>66</td>\n",
       "      <td>29</td>\n",
       "      <td>0</td>\n",
       "      <td>26.6</td>\n",
       "      <td>31</td>\n",
       "      <td>0</td>\n",
       "    </tr>\n",
       "    <tr>\n",
       "      <th>2</th>\n",
       "      <td>8</td>\n",
       "      <td>183</td>\n",
       "      <td>64</td>\n",
       "      <td>0</td>\n",
       "      <td>0</td>\n",
       "      <td>23.3</td>\n",
       "      <td>32</td>\n",
       "      <td>1</td>\n",
       "    </tr>\n",
       "    <tr>\n",
       "      <th>3</th>\n",
       "      <td>1</td>\n",
       "      <td>89</td>\n",
       "      <td>66</td>\n",
       "      <td>23</td>\n",
       "      <td>94</td>\n",
       "      <td>28.1</td>\n",
       "      <td>21</td>\n",
       "      <td>0</td>\n",
       "    </tr>\n",
       "    <tr>\n",
       "      <th>4</th>\n",
       "      <td>0</td>\n",
       "      <td>137</td>\n",
       "      <td>40</td>\n",
       "      <td>35</td>\n",
       "      <td>168</td>\n",
       "      <td>43.1</td>\n",
       "      <td>33</td>\n",
       "      <td>1</td>\n",
       "    </tr>\n",
       "    <tr>\n",
       "      <th>5</th>\n",
       "      <td>5</td>\n",
       "      <td>116</td>\n",
       "      <td>74</td>\n",
       "      <td>0</td>\n",
       "      <td>0</td>\n",
       "      <td>25.6</td>\n",
       "      <td>30</td>\n",
       "      <td>0</td>\n",
       "    </tr>\n",
       "    <tr>\n",
       "      <th>6</th>\n",
       "      <td>3</td>\n",
       "      <td>78</td>\n",
       "      <td>50</td>\n",
       "      <td>32</td>\n",
       "      <td>88</td>\n",
       "      <td>31.0</td>\n",
       "      <td>26</td>\n",
       "      <td>1</td>\n",
       "    </tr>\n",
       "    <tr>\n",
       "      <th>7</th>\n",
       "      <td>10</td>\n",
       "      <td>115</td>\n",
       "      <td>0</td>\n",
       "      <td>0</td>\n",
       "      <td>0</td>\n",
       "      <td>35.3</td>\n",
       "      <td>29</td>\n",
       "      <td>0</td>\n",
       "    </tr>\n",
       "    <tr>\n",
       "      <th>8</th>\n",
       "      <td>2</td>\n",
       "      <td>197</td>\n",
       "      <td>70</td>\n",
       "      <td>45</td>\n",
       "      <td>543</td>\n",
       "      <td>30.5</td>\n",
       "      <td>53</td>\n",
       "      <td>1</td>\n",
       "    </tr>\n",
       "    <tr>\n",
       "      <th>9</th>\n",
       "      <td>8</td>\n",
       "      <td>125</td>\n",
       "      <td>96</td>\n",
       "      <td>0</td>\n",
       "      <td>0</td>\n",
       "      <td>0.0</td>\n",
       "      <td>54</td>\n",
       "      <td>1</td>\n",
       "    </tr>\n",
       "  </tbody>\n",
       "</table>\n",
       "</div>"
      ],
      "text/plain": [
       "   no. pregnancies  blood glucose level  blood pressure  thickness of skin  \\\n",
       "0                6                  148              72                 35   \n",
       "1                1                   85              66                 29   \n",
       "2                8                  183              64                  0   \n",
       "3                1                   89              66                 23   \n",
       "4                0                  137              40                 35   \n",
       "5                5                  116              74                  0   \n",
       "6                3                   78              50                 32   \n",
       "7               10                  115               0                  0   \n",
       "8                2                  197              70                 45   \n",
       "9                8                  125              96                  0   \n",
       "\n",
       "   insulin level  body mass index  Age  Outcome  \n",
       "0              0             33.6   50        1  \n",
       "1              0             26.6   31        0  \n",
       "2              0             23.3   32        1  \n",
       "3             94             28.1   21        0  \n",
       "4            168             43.1   33        1  \n",
       "5              0             25.6   30        0  \n",
       "6             88             31.0   26        1  \n",
       "7              0             35.3   29        0  \n",
       "8            543             30.5   53        1  \n",
       "9              0              0.0   54        1  "
      ]
     },
     "execution_count": 1,
     "metadata": {},
     "output_type": "execute_result"
    }
   ],
   "source": [
    "import pandas as pd\n",
    "data=pd.read_csv(\"diabetes_assignment.csv\")\n",
    "print(data)\n",
    "df=pd.DataFrame(data)\n",
    "df.head(10)\n"
   ]
  },
  {
   "cell_type": "markdown",
   "metadata": {},
   "source": [
    "### Task 2 - Normalisation and PCA (20 marks)\n",
    "Perform a PCA on the data set. Perform the PCA on the correlation matrix, not the covariance matrix. Exclude the dependent variable from processing. The result should contain the maximum number of Principal Components possible. \n",
    "\n",
    "Make a DataFrame that contains the result of the PCA in the first *n* columns, *n* being the number of Principal Components. Columns should be named \"PC 1\" to \"PC *n*\".\n",
    "The last column of the data frame should contain the unprocessed dependent variable. Name the column according to the dependent variable. \n",
    "\n",
    "Use the `DataFrame.head` function to display the 10 first rows of the dataset. \n",
    "\n"
   ]
  },
  {
   "cell_type": "code",
   "execution_count": 2,
   "metadata": {},
   "outputs": [
    {
     "data": {
      "text/html": [
       "<div>\n",
       "<style scoped>\n",
       "    .dataframe tbody tr th:only-of-type {\n",
       "        vertical-align: middle;\n",
       "    }\n",
       "\n",
       "    .dataframe tbody tr th {\n",
       "        vertical-align: top;\n",
       "    }\n",
       "\n",
       "    .dataframe thead th {\n",
       "        text-align: right;\n",
       "    }\n",
       "</style>\n",
       "<table border=\"1\" class=\"dataframe\">\n",
       "  <thead>\n",
       "    <tr style=\"text-align: right;\">\n",
       "      <th></th>\n",
       "      <th>pc1</th>\n",
       "      <th>pc2</th>\n",
       "      <th>pc3</th>\n",
       "      <th>pc4</th>\n",
       "      <th>pc5</th>\n",
       "      <th>pc6</th>\n",
       "      <th>pc7</th>\n",
       "      <th>Outcome</th>\n",
       "    </tr>\n",
       "  </thead>\n",
       "  <tbody>\n",
       "    <tr>\n",
       "      <th>0</th>\n",
       "      <td>-1.087721</td>\n",
       "      <td>1.174722</td>\n",
       "      <td>-0.119842</td>\n",
       "      <td>0.187214</td>\n",
       "      <td>0.403914</td>\n",
       "      <td>0.912136</td>\n",
       "      <td>0.960333</td>\n",
       "      <td>1</td>\n",
       "    </tr>\n",
       "    <tr>\n",
       "      <th>1</th>\n",
       "      <td>1.122211</td>\n",
       "      <td>-0.649580</td>\n",
       "      <td>-0.759920</td>\n",
       "      <td>0.396504</td>\n",
       "      <td>-0.406933</td>\n",
       "      <td>0.756196</td>\n",
       "      <td>0.339018</td>\n",
       "      <td>0</td>\n",
       "    </tr>\n",
       "    <tr>\n",
       "      <th>2</th>\n",
       "      <td>0.431746</td>\n",
       "      <td>1.764536</td>\n",
       "      <td>1.527202</td>\n",
       "      <td>-0.868216</td>\n",
       "      <td>0.012326</td>\n",
       "      <td>-1.073746</td>\n",
       "      <td>1.094932</td>\n",
       "      <td>1</td>\n",
       "    </tr>\n",
       "    <tr>\n",
       "      <th>3</th>\n",
       "      <td>1.019234</td>\n",
       "      <td>-1.277338</td>\n",
       "      <td>-0.322285</td>\n",
       "      <td>0.251007</td>\n",
       "      <td>-0.488045</td>\n",
       "      <td>-0.100959</td>\n",
       "      <td>-0.135387</td>\n",
       "      <td>0</td>\n",
       "    </tr>\n",
       "    <tr>\n",
       "      <th>4</th>\n",
       "      <td>-0.730961</td>\n",
       "      <td>-1.618453</td>\n",
       "      <td>0.840613</td>\n",
       "      <td>0.049367</td>\n",
       "      <td>1.521805</td>\n",
       "      <td>0.976127</td>\n",
       "      <td>-0.296564</td>\n",
       "      <td>1</td>\n",
       "    </tr>\n",
       "    <tr>\n",
       "      <th>5</th>\n",
       "      <td>1.172456</td>\n",
       "      <td>0.895628</td>\n",
       "      <td>-0.051237</td>\n",
       "      <td>-0.520676</td>\n",
       "      <td>-0.449363</td>\n",
       "      <td>-0.652438</td>\n",
       "      <td>-0.030058</td>\n",
       "      <td>0</td>\n",
       "    </tr>\n",
       "    <tr>\n",
       "      <th>6</th>\n",
       "      <td>0.885334</td>\n",
       "      <td>-1.093734</td>\n",
       "      <td>-0.359354</td>\n",
       "      <td>1.214791</td>\n",
       "      <td>0.367162</td>\n",
       "      <td>0.177499</td>\n",
       "      <td>-0.084683</td>\n",
       "      <td>1</td>\n",
       "    </tr>\n",
       "    <tr>\n",
       "      <th>7</th>\n",
       "      <td>1.893117</td>\n",
       "      <td>1.013242</td>\n",
       "      <td>1.452696</td>\n",
       "      <td>1.220590</td>\n",
       "      <td>3.074969</td>\n",
       "      <td>-0.931188</td>\n",
       "      <td>-0.226125</td>\n",
       "      <td>0</td>\n",
       "    </tr>\n",
       "    <tr>\n",
       "      <th>8</th>\n",
       "      <td>-3.573856</td>\n",
       "      <td>-0.792561</td>\n",
       "      <td>3.142835</td>\n",
       "      <td>0.752786</td>\n",
       "      <td>-1.307847</td>\n",
       "      <td>1.178465</td>\n",
       "      <td>-0.651922</td>\n",
       "      <td>1</td>\n",
       "    </tr>\n",
       "    <tr>\n",
       "      <th>9</th>\n",
       "      <td>1.397101</td>\n",
       "      <td>3.353537</td>\n",
       "      <td>0.654287</td>\n",
       "      <td>0.405070</td>\n",
       "      <td>-3.264551</td>\n",
       "      <td>0.208728</td>\n",
       "      <td>0.853247</td>\n",
       "      <td>1</td>\n",
       "    </tr>\n",
       "  </tbody>\n",
       "</table>\n",
       "</div>"
      ],
      "text/plain": [
       "        pc1       pc2       pc3       pc4       pc5       pc6       pc7  \\\n",
       "0 -1.087721  1.174722 -0.119842  0.187214  0.403914  0.912136  0.960333   \n",
       "1  1.122211 -0.649580 -0.759920  0.396504 -0.406933  0.756196  0.339018   \n",
       "2  0.431746  1.764536  1.527202 -0.868216  0.012326 -1.073746  1.094932   \n",
       "3  1.019234 -1.277338 -0.322285  0.251007 -0.488045 -0.100959 -0.135387   \n",
       "4 -0.730961 -1.618453  0.840613  0.049367  1.521805  0.976127 -0.296564   \n",
       "5  1.172456  0.895628 -0.051237 -0.520676 -0.449363 -0.652438 -0.030058   \n",
       "6  0.885334 -1.093734 -0.359354  1.214791  0.367162  0.177499 -0.084683   \n",
       "7  1.893117  1.013242  1.452696  1.220590  3.074969 -0.931188 -0.226125   \n",
       "8 -3.573856 -0.792561  3.142835  0.752786 -1.307847  1.178465 -0.651922   \n",
       "9  1.397101  3.353537  0.654287  0.405070 -3.264551  0.208728  0.853247   \n",
       "\n",
       "   Outcome  \n",
       "0        1  \n",
       "1        0  \n",
       "2        1  \n",
       "3        0  \n",
       "4        1  \n",
       "5        0  \n",
       "6        1  \n",
       "7        0  \n",
       "8        1  \n",
       "9        1  "
      ]
     },
     "execution_count": 2,
     "metadata": {},
     "output_type": "execute_result"
    }
   ],
   "source": [
    "#PCA of data set\n",
    "data_set=data.iloc[:,:7]\n",
    "df_dataset=pd.DataFrame(data_set)\n",
    "data_outcome=data.iloc[:,7:8]\n",
    "from sklearn.preprocessing import StandardScaler\n",
    "scaler=StandardScaler()\n",
    "scaler.fit(df_dataset)\n",
    "scaled_data=scaler.transform(df_dataset)\n",
    "from sklearn.decomposition import PCA\n",
    "pca=PCA()\n",
    "pca.fit(scaled_data)\n",
    "pca_dataset=pca.transform(scaled_data)\n",
    "df_pca_dataset=pd.DataFrame(pca_dataset,columns=['pc1','pc2','pc3','pc4','pc5','pc6','pc7'])\n",
    "df_data_set=df_pca_dataset.join(data_outcome)\n",
    "df_data_set.head(10)"
   ]
  },
  {
   "cell_type": "code",
   "execution_count": 3,
   "metadata": {},
   "outputs": [
    {
     "name": "stdout",
     "output_type": "stream",
     "text": [
      "[0.28728614 0.24504176 0.1424166  0.10920261 0.09775728 0.06051123\n",
      " 0.05778439]\n"
     ]
    }
   ],
   "source": [
    "print(pca.explained_variance_ratio_)"
   ]
  },
  {
   "cell_type": "markdown",
   "metadata": {},
   "source": [
    "### Task 3 - PCA Scatter plot and interpretation (15 marks)\n",
    "\n",
    "Make a scatter plot of the first two principal components. Use small dots as markers. Color the dots according to the dependent variable. Use different colors for all discrete values of the dependent variable. Add a legend to the plot that explains which color is associated with which value of the dependent variable. Label the axes accordingly.\n",
    "\n",
    "Interpret the findings: By visual inspection, which principal component gives a better separation of the dependent variable? Justify your answer. Three sentences maximum. \n",
    "\n"
   ]
  },
  {
   "cell_type": "code",
   "execution_count": 8,
   "metadata": {},
   "outputs": [
    {
     "data": {
      "image/png": "[encoded data removed]",
      "text/plain": [
       "<Figure size 432x288 with 1 Axes>"
      ]
     },
     "metadata": {
      "needs_background": "light"
     },
     "output_type": "display_data"
    }
   ],
   "source": [
    "import numpy as np\n",
    "import matplotlib.pyplot as plt\n",
    "ax = plt.gca()\n",
    "fig = ax.scatter(pca_dataset[:,0],pca_dataset[:,1],c=data['Outcome'])\n",
    "handel,label = fig.legend_elements()\n",
    "label = ['0','1']\n",
    "plt.legend(handel,label)\n",
    "plt.xlabel('pc1-first principle component')\n",
    "plt.ylabel('pc2-second principle component')\n",
    "plt.show()\n",
    "\n"
   ]
  },
  {
   "cell_type": "markdown",
   "metadata": {},
   "source": [
    "**Interpretation**: *Please write here. *"
   ]
  },
  {
   "cell_type": "markdown",
   "metadata": {},
   "source": [
    "### Task 4 - Covariance/correlation matrix and interpretation (20 marks)\n",
    "Plot the covariance/correlation matrix as an image. \n",
    "Use a divergent colormap and center it on zero. \n",
    "Display a colorbar. \n",
    "Label each row and column according to the feature they represent, i.e. set the xticklabels and yticklabels accordingly. \n",
    "Rotate the labels on the columns by 90 degress to make sure they are legible. \n",
    "\n",
    "Interpret the result: Name the three pairs of features with the highest correlation. "
   ]
  },
  {
   "cell_type": "code",
   "execution_count": 20,
   "metadata": {},
   "outputs": [
    {
     "data": {
      "image/png": "[encoded data removed]",
      "text/plain": [
       "<Figure size 432x288 with 2 Axes>"
      ]
     },
     "metadata": {
      "needs_background": "light"
     },
     "output_type": "display_data"
    }
   ],
   "source": [
    "#covarience matrix\n",
    "cormat=df_dataset.corr()\n",
    "cormat\n",
    "fig = plt.gca()\n",
    "corr_mat= fig.imshow(cormat,cmap='RdBu',vmin=-1,vmax=1)\n",
    "plt.colorbar(corr_mat, label='correlation')\n",
    "fig.set_xticks(range(0,7))\n",
    "fig.set_xticklabels(df.columns,rotation = 90)\n",
    "fig.set_yticks(range(0,7))\n",
    "fig.set_yticklabels(df.columns)\n",
    "plt.show()"
   ]
  },
  {
   "cell_type": "code",
   "execution_count": null,
   "metadata": {},
   "outputs": [],
   "source": []
  },
  {
   "cell_type": "markdown",
   "metadata": {},
   "source": [
    "**Interpretation:** Most correlated feature pairs:\n",
    "1. ...age and number of pregnancies\n",
    "2. ...thickness of skin and insulin level\n",
    "3. ...thickness of skin and body mass index"
   ]
  },
  {
   "cell_type": "markdown",
   "metadata": {},
   "source": [
    "### Task 5 - component matrix and interpretation (20 marks)\n",
    "\n",
    "Plot the PCA component matrix as an image. Use a diverging colormap. Center it on zero. Display a colorbar. Use labels for rows and columns to indicate which PC or feature the row or column refers to. Make sure all labels are legible. \n",
    "\n",
    "Interpret the component matrix, taking your observation from the scatter plot into account. Which features are most likely to be correlated with the outcome? Justify your answer. Five sentences maximum.\n",
    "\n"
   ]
  },
  {
   "cell_type": "code",
   "execution_count": 17,
   "metadata": {},
   "outputs": [
    {
     "data": {
      "image/png": "[encoded data removed]",
      "text/plain": [
       "<Figure size 432x288 with 2 Axes>"
      ]
     },
     "metadata": {
      "needs_background": "light"
     },
     "output_type": "display_data"
    }
   ],
   "source": [
    "fig = plt.gca()\n",
    "cb = fig.imshow(pca.components_,cmap='RdBu',vmin = -1, vmax = 1)\n",
    "plt.colorbar(cb)\n",
    "fig.set_xticks(range(0,7))\n",
    "plt.xticks(rotation= 90)\n",
    "fig.set_xticklabels(df.columns)\n",
    "fig.set_yticks(range(0,7))\n",
    "fig.set_yticklabels(df_pca_dataset.columns)\n",
    "plt.show()"
   ]
  },
  {
   "cell_type": "markdown",
   "metadata": {},
   "source": [
    "**Interpretation:** write here. "
   ]
  },
  {
   "cell_type": "markdown",
   "metadata": {},
   "source": [
    "### Task 6 - Scree plot and interpretation (10 marks)\n",
    "\n",
    "Plot the explained variance ratio against the number of Principal Components (\"scree plot\"). Use 'x' as a marker and a dashed line, both colored black. Label the axes accordingly. Set the y-axis limit such that it covers the whole range of values, starting at zero.  \n",
    "\n",
    "Interpret the findings: What fraction of the total variance do the first two PCs explain? How many PCs are required to explain 95% of the variance? Feel free to use extra code to provide exact answers. \n",
    "\n"
   ]
  },
  {
   "cell_type": "code",
   "execution_count": 18,
   "metadata": {},
   "outputs": [
    {
     "data": {
      "image/png": "[encoded data removed]",
      "text/plain": [
       "<Figure size 432x288 with 1 Axes>"
      ]
     },
     "metadata": {
      "needs_background": "light"
     },
     "output_type": "display_data"
    }
   ],
   "source": [
    "fig = plt.gca()\n",
    "fig.plot(pca.explained_variance_ratio_,'x--',color='black',markerfacecolor='black')\n",
    "plt.ylim(0,0.4)\n",
    "fig.set_xticks(range(0,7))\n",
    "fig.set_xticklabels(df_pca_dataset.columns)\n",
    "fig.set_ylabel('variance')\n",
    "plt.show()"
   ]
  },
  {
   "cell_type": "code",
   "execution_count": 19,
   "metadata": {},
   "outputs": [
    {
     "data": {
      "text/html": [
       "<div>\n",
       "<style scoped>\n",
       "    .dataframe tbody tr th:only-of-type {\n",
       "        vertical-align: middle;\n",
       "    }\n",
       "\n",
       "    .dataframe tbody tr th {\n",
       "        vertical-align: top;\n",
       "    }\n",
       "\n",
       "    .dataframe thead th {\n",
       "        text-align: right;\n",
       "    }\n",
       "</style>\n",
       "<table border=\"1\" class=\"dataframe\">\n",
       "  <thead>\n",
       "    <tr style=\"text-align: right;\">\n",
       "      <th></th>\n",
       "      <th>0</th>\n",
       "    </tr>\n",
       "  </thead>\n",
       "  <tbody>\n",
       "    <tr>\n",
       "      <th>0</th>\n",
       "      <td>0.287286</td>\n",
       "    </tr>\n",
       "    <tr>\n",
       "      <th>1</th>\n",
       "      <td>0.532328</td>\n",
       "    </tr>\n",
       "    <tr>\n",
       "      <th>2</th>\n",
       "      <td>0.674744</td>\n",
       "    </tr>\n",
       "    <tr>\n",
       "      <th>3</th>\n",
       "      <td>0.783947</td>\n",
       "    </tr>\n",
       "    <tr>\n",
       "      <th>4</th>\n",
       "      <td>0.881704</td>\n",
       "    </tr>\n",
       "    <tr>\n",
       "      <th>5</th>\n",
       "      <td>0.942216</td>\n",
       "    </tr>\n",
       "    <tr>\n",
       "      <th>6</th>\n",
       "      <td>1.000000</td>\n",
       "    </tr>\n",
       "  </tbody>\n",
       "</table>\n",
       "</div>"
      ],
      "text/plain": [
       "          0\n",
       "0  0.287286\n",
       "1  0.532328\n",
       "2  0.674744\n",
       "3  0.783947\n",
       "4  0.881704\n",
       "5  0.942216\n",
       "6  1.000000"
      ]
     },
     "execution_count": 19,
     "metadata": {},
     "output_type": "execute_result"
    }
   ],
   "source": [
    "# any extra code for the interpretation here:\n",
    "pass\n",
    "import numpy as np\n",
    "data = pd.DataFrame(np.cumsum(pca.explained_variance_ratio_))\n",
    "data"
   ]
  },
  {
   "cell_type": "markdown",
   "metadata": {},
   "source": [
    "**Interpretation**: (replace 'X' with your answer).\n",
    "\n",
    "The first two principal components explain *53.23* % of the variance.\n",
    "\n",
    "*7* principal components are required to explain 95 % of the total variance. \n"
   ]
  },
  {
   "cell_type": "code",
   "execution_count": null,
   "metadata": {},
   "outputs": [],
   "source": []
  }
 ],
 "metadata": {
  "kernelspec": {
   "display_name": "Python 3",
   "language": "python",
   "name": "python3"
  },
  "language_info": {
   "codemirror_mode": {
    "name": "ipython",
    "version": 3
   },
   "file_extension": ".py",
   "mimetype": "text/x-python",
   "name": "python",
   "nbconvert_exporter": "python",
   "pygments_lexer": "ipython3",
   "version": "3.8.3"
  }
 },
 "nbformat": 4,
 "nbformat_minor": 2
}
